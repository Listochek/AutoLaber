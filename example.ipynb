{
 "cells": [
  {
   "cell_type": "code",
   "execution_count": 7,
   "metadata": {},
   "outputs": [],
   "source": [
    "import sys\n",
    "sys.path.append(\"autolaber\") # путь до скаченного репозитория"
   ]
  },
  {
   "cell_type": "code",
   "execution_count": 8,
   "metadata": {},
   "outputs": [],
   "source": [
    "from autolaber import run_ansambl, run_yolo_prediction"
   ]
  },
  {
   "cell_type": "code",
   "execution_count": 9,
   "metadata": {},
   "outputs": [],
   "source": [
    "KEY_WORDS = ['cats', 'dogs', 'bird'] # лист слов для скачивания картинок\n",
    "main_dirr = 'picture' # папка в которой будут происходить все действия\n",
    "# ПРИ РАБОТЕ main_dir ПОЛНОСТЬЮ УДАЛЯЕТСЯ БУДЬТЕ ОСТОРОЖНЫ\n",
    "MAX_PIC = 3 # колличество картинок для скачивания\n",
    "folders_for_saving = ['train\\\\images', 'validation\\\\images', 'test\\\\images'] \n",
    "# папки для сохранения картинок, создадутся в main_dir (установленны зарание)\n",
    "crawl_mode = 'Google' # есть два моды парсинга Google/Bing\n",
    "remove_duplicates = True # удалять ли дубликаты картинок"
   ]
  },
  {
   "cell_type": "code",
   "execution_count": 10,
   "metadata": {},
   "outputs": [],
   "source": [
    "run_ansambl(\n",
    "    key_words=KEY_WORDS,\n",
    "    main_dirr=main_dirr,\n",
    "    max_pic=MAX_PIC,\n",
    "    folders_for_saving= folders_for_saving,\n",
    "    crawl_mode=crawl_mode,\n",
    "    remove_duplicates=remove_duplicates\n",
    ")\n"
   ]
  },
  {
   "cell_type": "code",
   "execution_count": 11,
   "metadata": {},
   "outputs": [],
   "source": [
    "main_dirr='picture' # используется таже дирректория что и для парсинга\n",
    "model = 'models\\\\yolov8n' # для примера используем yolov8n, можите подключить свою модель\n",
    "# Бибилиотека заточена на работу с модели YOLO 8+ серии\n",
    "folders_names = ['train', 'validation', 'test'] # если вы не меняли folders_for_saving то менять ничего не нужно\n",
    "pic_folders_name = 'images' # pic_folders_name должен стоятб такой же как в конце путей folders_for_saving=[train\\\\images...]"
   ]
  },
  {
   "cell_type": "code",
   "execution_count": null,
   "metadata": {},
   "outputs": [],
   "source": [
    "run_yolo_prediction(main_dirr=main_dirr, model=model, folders_names=folders_names, pic_folders_name=pic_folders_name)"
   ]
  }
 ],
 "metadata": {
  "kernelspec": {
   "display_name": "Python 3",
   "language": "python",
   "name": "python3"
  },
  "language_info": {
   "codemirror_mode": {
    "name": "ipython",
    "version": 3
   },
   "file_extension": ".py",
   "mimetype": "text/x-python",
   "name": "python",
   "nbconvert_exporter": "python",
   "pygments_lexer": "ipython3",
   "version": "3.12.0"
  }
 },
 "nbformat": 4,
 "nbformat_minor": 2
}

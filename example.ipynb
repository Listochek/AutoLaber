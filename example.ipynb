{
 "cells": [
  {
   "cell_type": "code",
   "execution_count": 7,
   "metadata": {},
   "outputs": [],
   "source": [
    "import sys\n",
    "sys.path.append(\"autolaber\") # путь до скаченного репозитория"
   ]
  },
  {
   "cell_type": "code",
   "execution_count": 8,
   "metadata": {},
   "outputs": [],
   "source": [
    "from autolaber import run_ansambl, run_yolo_prediction"
   ]
  },
  {
   "cell_type": "code",
   "execution_count": 9,
   "metadata": {},
   "outputs": [],
   "source": [
    "KEY_WORDS = ['cats', 'dogs', 'bird'] # лист слов для скачивания картинок\n",
    "main_dirr = 'picture' # папка в которой будут происходить все действия\n",
    "# ПРИ РАБОТЕ main_dir ПОЛНОСТЬЮ УДАЛЯЕТСЯ БУДЬТЕ ОСТОРОЖНЫ\n",
    "MAX_PIC = 3 # колличество картинок для скачивания\n",
    "folders_for_saving = ['train\\\\images', 'validation\\\\images', 'test\\\\images'] \n",
    "# папки для сохранения картинок, создадутся в main_dir (установленны зарание)\n",
    "crawl_mode = 'Google' # есть два моды парсинга Google/Bing\n",
    "remove_duplicates = True # удалять ли дубликаты картинок"
   ]
  },
  {
   "cell_type": "code",
   "execution_count": 10,
   "metadata": {},
   "outputs": [],
   "source": [
    "run_ansambl(\n",
    "    key_words=KEY_WORDS,\n",
    "    main_dirr=main_dirr,\n",
    "    max_pic=MAX_PIC,\n",
    "    folders_for_saving= folders_for_saving,\n",
    "    crawl_mode=crawl_mode,\n",
    "    remove_duplicates=remove_duplicates\n",
    ")\n"
   ]
  },
  {
   "cell_type": "code",
   "execution_count": 11,
   "metadata": {},
   "outputs": [],
   "source": [
    "main_dirr='picture' # используется таже дирректория что и для парсинга\n",
    "model = 'models\\\\yolov8n' # для примера используем yolov8n, можите подключить свою модель\n",
    "# Бибилиотека заточена на работу с модели YOLO 8+ серии\n",
    "folders_names = ['train', 'validation', 'test'] # если вы не меняли folders_for_saving то менять ничего не нужно\n",
    "pic_folders_name = 'images' # pic_folders_name должен стоятб такой же как в конце путей folders_for_saving=[train\\\\images...]"
   ]
  },
  {
   "cell_type": "code",
   "execution_count": 12,
   "metadata": {},
   "outputs": [
    {
     "name": "stdout",
     "output_type": "stream",
     "text": [
      "\n",
      "image 1/1 c:\\Users\\Admin\\Documents\\GitHub\\AutoLaber\\picture\\test\\images\\bird000002.png: 224x320 11 persons, 10 bicycles, 101 cars, 5 motorcycles, 1 airplane, 3 trains, 1 truck, 34 boats, 3 traffic lights, 4 fire hydrants, 3 stop signs, 5 parking meters, 16 benchs, 2 birds, 1 dog, 5 horses, 10 sheeps, 3 cows, 5 elephants, 2 bears, 1 backpack, 5 umbrellas, 2 suitcases, 2 frisbees, 1 skis, 2 snowboards, 4 sports balls, 1 fork, 6 knifes, 10 spoons, 1 bowl, 1 banana, 5 apples, 3 donuts, 6 couchs, 1 potted plant, 9 beds, 6 dining tables, 6 mouses, 1 remote, 1 cell phone, 1 refrigerator, 175.1ms\n",
      "Speed: 0.0ms preprocess, 175.1ms inference, 0.0ms postprocess per image at shape (1, 3, 224, 320)\n",
      "Results saved to \u001b[1mruns\\detect\\predict\u001b[0m\n",
      "1 label saved to runs\\detect\\predict\\labels\n",
      "\n",
      "image 1/1 c:\\Users\\Admin\\Documents\\GitHub\\AutoLaber\\picture\\test\\images\\dogs000001.jpg: 192x320 5 persons, 5 boats, 2 fire hydrants, 16 stop signs, 15 parking meters, 3 horses, 3 bears, 11 handbags, 6 ties, 3 suitcases, 1 sports ball, 7 bottles, 3 wine glasss, 5 spoons, 1 broccoli, 4 cakes, 20 couchs, 6 beds, 2 remotes, 3 cell phones, 1 oven, 1 toaster, 10 sinks, 5 clocks, 7 vases, 6 teddy bears, 159.2ms\n",
      "Speed: 0.0ms preprocess, 159.2ms inference, 0.0ms postprocess per image at shape (1, 3, 192, 320)\n",
      "Results saved to \u001b[1mruns\\detect\\predict\u001b[0m\n",
      "2 labels saved to runs\\detect\\predict\\labels\n",
      "\n",
      "image 1/1 c:\\Users\\Admin\\Documents\\GitHub\\AutoLaber\\picture\\train\\images\\bird000001.jpg: 256x320 1 person, 5 bicycles, 16 stop signs, 8 dogs, 22 ties, 1 suitcase, 7 baseball gloves, 1 tennis racket, 1 bottle, 35 forks, 55 knifes, 19 spoons, 1 sandwich, 17 donuts, 1 cake, 1 dining table, 82 mouses, 18 remotes, 1 keyboard, 1 vase, 1 teddy bear, 6 toothbrushs, 243.8ms\n",
      "Speed: 0.0ms preprocess, 243.8ms inference, 0.0ms postprocess per image at shape (1, 3, 256, 320)\n",
      "Results saved to \u001b[1mruns\\detect\\predict\u001b[0m\n",
      "3 labels saved to runs\\detect\\predict\\labels\n",
      "\n",
      "image 1/1 c:\\Users\\Admin\\Documents\\GitHub\\AutoLaber\\picture\\train\\images\\bird000003.jpeg: 224x320 4 persons, 4 bicycles, 8 cars, 6 motorcycles, 13 trains, 37 boats, 1 fire hydrant, 19 stop signs, 2 parking meters, 6 benchs, 2 birds, 2 cats, 8 dogs, 4 horses, 4 bears, 1 backpack, 2 umbrellas, 2 handbags, 7 ties, 3 suitcases, 24 frisbees, 3 skiss, 6 snowboards, 2 sports balls, 2 surfboards, 7 tennis rackets, 3 bottles, 4 forks, 38 knifes, 27 spoons, 1 banana, 3 apples, 1 orange, 1 pizza, 3 donuts, 1 cake, 3 couchs, 4 beds, 20 dining tables, 2 mouses, 4 remotes, 2 keyboards, 1 oven, 1 refrigerator, 2 hair driers, 136.4ms\n",
      "Speed: 0.0ms preprocess, 136.4ms inference, 2.1ms postprocess per image at shape (1, 3, 224, 320)\n",
      "Results saved to \u001b[1mruns\\detect\\predict\u001b[0m\n",
      "4 labels saved to runs\\detect\\predict\\labels\n",
      "\n",
      "image 1/1 c:\\Users\\Admin\\Documents\\GitHub\\AutoLaber\\picture\\train\\images\\cats000001.jpg: 320x256 31 bicycles, 8 cars, 60 motorcycles, 3 airplanes, 2 trains, 21 boats, 4 traffic lights, 3 stop signs, 4 benchs, 2 cats, 1 dog, 2 backpacks, 5 umbrellas, 5 handbags, 15 suitcases, 32 frisbees, 4 skiss, 1 snowboard, 3 sports balls, 1 baseball bat, 7 bottles, 13 forks, 20 knifes, 35 spoons, 1 carrot, 1 pizza, 2 couchs, 1 bed, 7 dining tables, 1 laptop, 1 remote, 3 cell phones, 1 toothbrush, 230.1ms\n",
      "Speed: 2.1ms preprocess, 230.1ms inference, 3.3ms postprocess per image at shape (1, 3, 320, 256)\n",
      "Results saved to \u001b[1mruns\\detect\\predict\u001b[0m\n",
      "5 labels saved to runs\\detect\\predict\\labels\n",
      "\n",
      "image 1/1 c:\\Users\\Admin\\Documents\\GitHub\\AutoLaber\\picture\\train\\images\\cats000002.jpg: 320x320 2 persons, 6 bicycles, 37 cars, 22 motorcycles, 15 airplanes, 10 trains, 7 trucks, 50 boats, 2 traffic lights, 1 fire hydrant, 2 stop signs, 6 benchs, 1 cat, 4 dogs, 8 horses, 2 sheeps, 1 bear, 2 zebras, 5 suitcases, 1 frisbee, 3 skiss, 1 sports ball, 1 baseball bat, 2 baseball gloves, 1 bottle, 32 spoons, 8 bowls, 3 apples, 1 sandwich, 7 donuts, 10 couchs, 20 beds, 18 dining tables, 3 mouses, 1 remote, 1 cell phone, 3 sinks, 1 refrigerator, 252.0ms\n",
      "Speed: 0.0ms preprocess, 252.0ms inference, 0.0ms postprocess per image at shape (1, 3, 320, 320)\n",
      "Results saved to \u001b[1mruns\\detect\\predict\u001b[0m\n",
      "6 labels saved to runs\\detect\\predict\\labels\n",
      "\n",
      "image 1/1 c:\\Users\\Admin\\Documents\\GitHub\\AutoLaber\\picture\\train\\images\\cats000003.jpg: 256x320 3 persons, 17 bicycles, 1 car, 15 motorcycles, 1 airplane, 2 trains, 64 boats, 1 traffic light, 3 fire hydrants, 8 stop signs, 6 parking meters, 9 benchs, 3 cats, 15 dogs, 8 horses, 8 bears, 27 backpacks, 18 umbrellas, 6 handbags, 1 tie, 9 suitcases, 12 frisbees, 3 snowboards, 2 surfboards, 1 fork, 5 knifes, 4 spoons, 6 apples, 1 orange, 5 cakes, 1 couch, 6 beds, 16 dining tables, 1 toilet, 1 remote, 3 keyboards, 4 cell phones, 2 sinks, 2 clocks, 190.5ms\n",
      "Speed: 0.0ms preprocess, 190.5ms inference, 0.0ms postprocess per image at shape (1, 3, 256, 320)\n",
      "Results saved to \u001b[1mruns\\detect\\predict\u001b[0m\n",
      "7 labels saved to runs\\detect\\predict\\labels\n",
      "\n",
      "image 1/1 c:\\Users\\Admin\\Documents\\GitHub\\AutoLaber\\picture\\train\\images\\dogs000002.jpg: 224x320 2 persons, 54 bicycles, 19 cars, 4 motorcycles, 1 airplane, 2 buss, 9 trains, 3 trucks, 1 boat, 1 traffic light, 2 fire hydrants, 6 stop signs, 39 benchs, 13 cats, 21 dogs, 5 horses, 2 sheeps, 1 cow, 3 bears, 9 umbrellas, 6 handbags, 1 tie, 9 suitcases, 2 frisbees, 7 skiss, 1 snowboard, 1 wine glass, 5 forks, 21 knifes, 2 spoons, 2 bowls, 2 sandwichs, 1 pizza, 1 donut, 10 couchs, 1 potted plant, 8 beds, 2 dining tables, 2 toilets, 3 mouses, 5 remotes, 5 keyboards, 1 oven, 3 toasters, 1 sink, 1 clock, 155.8ms\n",
      "Speed: 0.0ms preprocess, 155.8ms inference, 0.0ms postprocess per image at shape (1, 3, 224, 320)\n",
      "Results saved to \u001b[1mruns\\detect\\predict\u001b[0m\n",
      "8 labels saved to runs\\detect\\predict\\labels\n",
      "\n",
      "image 1/1 c:\\Users\\Admin\\Documents\\GitHub\\AutoLaber\\picture\\validation\\images\\dogs000003.jpg: 256x320 9 persons, 3 bicycles, 21 cars, 6 motorcycles, 20 airplanes, 1 bus, 3 trains, 43 boats, 4 fire hydrants, 3 stop signs, 1 parking meter, 3 birds, 5 cats, 12 dogs, 5 horses, 27 sheeps, 10 cows, 5 bears, 1 giraffe, 9 umbrellas, 1 handbag, 1 tie, 7 frisbees, 1 snowboard, 1 wine glass, 4 knifes, 6 spoons, 5 apples, 3 pizzas, 4 cakes, 1 couch, 24 beds, 45 dining tables, 3 mouses, 3 sinks, 154.4ms\n",
      "Speed: 8.0ms preprocess, 154.4ms inference, 0.0ms postprocess per image at shape (1, 3, 256, 320)\n",
      "Results saved to \u001b[1mruns\\detect\\predict\u001b[0m\n",
      "9 labels saved to runs\\detect\\predict\\labels\n"
     ]
    }
   ],
   "source": [
    "run_yolo_prediction(main_dirr=main_dirr, model=model, folders_names=folders_names, pic_folders_name=pic_folders_name)"
   ]
  }
 ],
 "metadata": {
  "kernelspec": {
   "display_name": "Python 3",
   "language": "python",
   "name": "python3"
  },
  "language_info": {
   "codemirror_mode": {
    "name": "ipython",
    "version": 3
   },
   "file_extension": ".py",
   "mimetype": "text/x-python",
   "name": "python",
   "nbconvert_exporter": "python",
   "pygments_lexer": "ipython3",
   "version": "3.12.0"
  }
 },
 "nbformat": 4,
 "nbformat_minor": 2
}
